{
 "cells": [
  {
   "cell_type": "markdown",
   "metadata": {},
   "source": [
    "1.\tWhat are the Boolean data type's two values? How do you go about writing them?\n",
    "Ans:  Boolean Type values are True and False.\n",
    "X=True\n",
    "Y=False\n",
    "print(type(x))   bool\n"
   ]
  },
  {
   "cell_type": "markdown",
   "metadata": {},
   "source": [
    "2.\tWhat are the three different types of Boolean operators?\n",
    "Ans: and, or, not\n",
    "And -  X and Y means if both X and Y is True, then it returns True\n",
    "Or -    X or Y means if either X or Y is True,then it returns True\n",
    "Not-  not X means , if X is True , it returns False.\n"
   ]
  },
  {
   "cell_type": "markdown",
   "metadata": {},
   "source": [
    "3. Make a list of each Boolean operator's truth tables (i.e. every possible combination of Boolean values for the operator and what it evaluate ).\n",
    "Ans: \n",
    "X  Y    Evaluates (AND)                     X  Y   Evaluates (OR)             X   Evaluates(NOT)                                                \n",
    "T  T     T                                  T  F     T                        F    T\n",
    "                                            F  T     T\n",
    "                                            T  T     T\n"
   ]
  },
  {
   "cell_type": "markdown",
   "metadata": {},
   "source": [
    "4. What are the values of the following expressions?\n",
    "\n",
    "(5 > 4) and (3 == 5)\n",
    "not (5 > 4)\n",
    "(5 > 4) or (3 == 5)\n",
    "not ((5 > 4) or (3 == 5))\n",
    "(True and True) and (True == False)\n",
    "(not False) or (not True)\n",
    "Ans:  \n",
    "(5 > 4) and (3 == 5)  \tFalse\n",
    "not (5 > 4)   False\n",
    "(5 > 4) or (3 == 5)  True\n",
    "not ((5 > 4) or (3 == 5))  False\n",
    "(True and True) and (True == False)  False\n",
    "(not False) or (not True)  True\n"
   ]
  },
  {
   "cell_type": "markdown",
   "metadata": {},
   "source": [
    "5. What are the six different types of reference operators?\n",
    "Ans:  < ,<=,>,>=,==, !=\n"
   ]
  },
  {
   "cell_type": "markdown",
   "metadata": {},
   "source": [
    "6. How do you tell the difference between the equal to and assignment operators?\n",
    "Ans: equal to operator :    “==”two consecutive equal marks is used to check whether 2 expressions give the same value\n",
    "Assignment operator:  “= “ single equal mark is used to assign a value to a variable\n",
    "       Ex : a=10\n",
    "              b=5\n",
    "              c=5\n",
    "(a==b) is False because we assigned different values to a and b.\n",
    "(b==c) is True because we assign equal values to b and c.\n"
   ]
  },
  {
   "cell_type": "markdown",
   "metadata": {},
   "source": [
    "7. Describe a condition and when you would use one.\n",
    "Ans: Conditional Statement perform different computations or actions depending on whether a specific Boolean expression evaluates to true or false. Conditional statements are handled by IF statements.\n",
    "\n"
   ]
  },
  {
   "cell_type": "code",
   "execution_count": 1,
   "metadata": {},
   "outputs": [
    {
     "name": "stdout",
     "output_type": "stream",
     "text": [
      "x equals two!\n"
     ]
    }
   ],
   "source": [
    "x = 2\n",
    "if x == 2:\n",
    "    print(\"x equals two!\")\n",
    "else:\n",
    "    print(\"x does not equal to two.\")"
   ]
  },
  {
   "cell_type": "markdown",
   "metadata": {},
   "source": [
    "8. Recognize the following three blocks in this code:\n",
    "\n",
    "spam = 0\n",
    "if spam == 10:\n",
    "    print('eggs')\n",
    "    if spam > 5:\n",
    "        print('bacon')\n",
    "    else:\n",
    "        print('ham')\n",
    "    print('spam')\n",
    "print('spam')\n",
    "Ans:  In the above program spam is initialise to 0, so it will not execute the outer IF statement and inside IF and else block wont execute at all. Last print statement prints ‘spam’.\n"
   ]
  },
  {
   "cell_type": "markdown",
   "metadata": {},
   "source": [
    "9. Create a programme that prints. If 1 is stored in spam, prints Hello; if 2 is stored in spam, prints Howdy; and if 3 is stored in spam, prints Salutations! if there's something else in spam.\n",
    "Ans:"
   ]
  },
  {
   "cell_type": "code",
   "execution_count": 4,
   "metadata": {},
   "outputs": [
    {
     "name": "stdout",
     "output_type": "stream",
     "text": [
      "Enater Integer 1 or 2 0r 3:2\n",
      "Howdy\n"
     ]
    }
   ],
   "source": [
    "spam=int(input(\"Enater Integer 1 or 2 0r 3:\"))\n",
    "if spam==1 :\n",
    "    print(\"Hello\")\n",
    "elif spam ==2:\n",
    "    print(\"Howdy\")\n",
    "elif spam ==3 :\n",
    "    print(\"Speculations\")\n",
    "else:\n",
    "    print(\"Something else\")"
   ]
  },
  {
   "cell_type": "markdown",
   "metadata": {},
   "source": [
    "10.If your programme is stuck in an endless loop, what keys can you press?\n",
    "Ans : Ctrl+c\n"
   ]
  },
  {
   "cell_type": "markdown",
   "metadata": {},
   "source": [
    "11. How can you tell the difference between break and continue?\n",
    "Continue: continue statement is used in a loop to go back to the beginning of the loop. When continue is executed, the next repetition will continue.\n",
    "break: break statement is used inside a loop to come out of the loop.\n"
   ]
  },
  {
   "cell_type": "code",
   "execution_count": 5,
   "metadata": {},
   "outputs": [
    {
     "name": "stdout",
     "output_type": "stream",
     "text": [
      "Enter a Number5\n",
      "Enter a Number2\n",
      "Enter a Number-3\n",
      "negative number reached -3\n",
      "Enter a Number4\n",
      "Enter a Number6\n",
      "Negative number reached 1 times\n"
     ]
    }
   ],
   "source": [
    "#count number of negative number reached using continue\n",
    "cnt=0\n",
    "for i in range(5):\n",
    "    a=int(input(\"Enter a Number\"))\n",
    "    if a<0 :\n",
    "        print(\"negative number reached\",a)\n",
    "        cnt+=1\n",
    "        continue\n",
    "else:\n",
    "    if cnt == 0:\n",
    "        print(\"No Negative number entered\")\n",
    "    else:\n",
    "        print(\"Negative number reached\",cnt,'times')"
   ]
  },
  {
   "cell_type": "code",
   "execution_count": 7,
   "metadata": {},
   "outputs": [
    {
     "name": "stdout",
     "output_type": "stream",
     "text": [
      "Enter a Number4\n",
      "Enter a Number5\n",
      "Enter a Number6\n",
      "Enter a Number7\n",
      "Enter a Number8\n",
      "Negative number not found\n"
     ]
    }
   ],
   "source": [
    "#count number of negative number reached using break\n",
    "\n",
    "for i in range(5):\n",
    "    a=int(input(\"Enter a Number\"))\n",
    "    if a<0 :\n",
    "        print(\"negative number reached\",a)\n",
    "        break\n",
    "else:\n",
    "    print(\"Negative number not found\")\n"
   ]
  },
  {
   "cell_type": "markdown",
   "metadata": {},
   "source": [
    "12. In a for loop, what is the difference between range(10), range(0, 10), and range(0, 10, 1)?\n",
    "Ans:\n",
    "Range(10): to provide sequence of numbers from 0 to 9\n",
    "Range(0,10): to provide sequence of number 0 to 9(default is 1)\n",
    "Range(0,10,1): to provide sequence of number 0 to 9  with step is 1(default is 1)\n"
   ]
  },
  {
   "cell_type": "code",
   "execution_count": 8,
   "metadata": {},
   "outputs": [
    {
     "name": "stdout",
     "output_type": "stream",
     "text": [
      "Using range(10)\n",
      "0 ,1 ,2 ,3 ,4 ,5 ,6 ,7 ,8 ,9 ,\n",
      "Using range(0,10)\n",
      "0 ,1 ,2 ,3 ,4 ,5 ,6 ,7 ,8 ,9 ,\n",
      "Using range(0,10,1)\n",
      "0 ,1 ,2 ,3 ,4 ,5 ,6 ,7 ,8 ,9 ,"
     ]
    }
   ],
   "source": [
    "print('Using range(10)')\n",
    "for i in range(10):\n",
    "    print(i,end=' ,')\n",
    "print()\n",
    "print('Using range(0,10)')\n",
    "for i in range(0,10):\n",
    "    print(i,end=' ,')\n",
    "print()\n",
    "print('Using range(0,10,1)')\n",
    "for i in range(0,10,1):\n",
    "    print(i,end=' ,')\n"
   ]
  },
  {
   "cell_type": "markdown",
   "metadata": {},
   "source": [
    "13. Using a for loop, write a short programme that prints the numbers 1 to 10 Then, using a while loop, create an identical programme that prints the numbers 1 to 10.\n",
    "Ans:"
   ]
  },
  {
   "cell_type": "code",
   "execution_count": 9,
   "metadata": {},
   "outputs": [
    {
     "name": "stdout",
     "output_type": "stream",
     "text": [
      "Using while loop\n",
      "1 2 3 4 5 6 7 8 9 10 \n",
      "Using For loop\n",
      "1 2 3 4 5 6 7 8 9 10 "
     ]
    }
   ],
   "source": [
    "a=11\n",
    "i=1\n",
    "print('Using while loop')\n",
    "while i < a:\n",
    "    print(i,end=' ')\n",
    "    i+=1\n",
    "print()\n",
    "print('Using For loop')\n",
    "for i in range(1,11):\n",
    "    print(i,end=' ')\n"
   ]
  },
  {
   "cell_type": "code",
   "execution_count": null,
   "metadata": {},
   "outputs": [],
   "source": [
    "14. If you had a bacon() function within a spam module, what would you call it after importing spam?\n",
    "Ans : function can be called by spam.bacon()"
   ]
  }
 ],
 "metadata": {
  "kernelspec": {
   "display_name": "Python 3",
   "language": "python",
   "name": "python3"
  },
  "language_info": {
   "codemirror_mode": {
    "name": "ipython",
    "version": 3
   },
   "file_extension": ".py",
   "mimetype": "text/x-python",
   "name": "python",
   "nbconvert_exporter": "python",
   "pygments_lexer": "ipython3",
   "version": "3.6.4"
  }
 },
 "nbformat": 4,
 "nbformat_minor": 2
}
